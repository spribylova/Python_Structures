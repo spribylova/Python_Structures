{
  "nbformat": 4,
  "nbformat_minor": 0,
  "metadata": {
    "colab": {
      "provenance": []
    },
    "kernelspec": {
      "name": "python3",
      "display_name": "Python 3"
    },
    "language_info": {
      "name": "python"
    }
  },
  "cells": [
    {
      "cell_type": "code",
      "source": [
        "# Data structures\n",
        "# in the case you have an issue to install shell libraries: requests, pyamaze or helpers:\n",
        "# upgrade python from terminal first, run install commands from terminal or include exclamation\n",
        "# terminal is in Finder, Go, Utilities for Mac users\n",
        "# rm -rf /usr/lib/python3.7/site-packages\n",
        "# python3.7 -m ensurepip\n",
        "# pip install --upgrade pip"
      ],
      "metadata": {
        "id": "jalmKRttuW4z"
      },
      "execution_count": 1,
      "outputs": []
    },
    {
      "cell_type": "code",
      "source": [
        "# library for reusable functions for routine automation\n",
        "!pip install helpers"
      ],
      "metadata": {
        "colab": {
          "base_uri": "https://localhost:8080/"
        },
        "id": "Aln_RZuSoEUI",
        "outputId": "d774ae97-01ff-4190-f606-928244f9a933"
      },
      "execution_count": 2,
      "outputs": [
        {
          "output_type": "stream",
          "name": "stdout",
          "text": [
            "Looking in indexes: https://pypi.org/simple, https://us-python.pkg.dev/colab-wheels/public/simple/\n",
            "Collecting helpers\n",
            "  Downloading helpers-0.2.0-py3-none-any.whl (2.3 kB)\n",
            "Installing collected packages: helpers\n",
            "Successfully installed helpers-0.2.0\n"
          ]
        }
      ]
    },
    {
      "cell_type": "code",
      "source": [
        "# library to create mazes\n",
        "!pip install pygame"
      ],
      "metadata": {
        "colab": {
          "base_uri": "https://localhost:8080/"
        },
        "id": "cvMqDLHIj3W2",
        "outputId": "230e2d40-5c17-459e-d331-e688d0a92496"
      },
      "execution_count": 3,
      "outputs": [
        {
          "output_type": "stream",
          "name": "stdout",
          "text": [
            "Looking in indexes: https://pypi.org/simple, https://us-python.pkg.dev/colab-wheels/public/simple/\n",
            "Collecting pygame\n",
            "  Downloading pygame-2.1.2-cp37-cp37m-manylinux_2_17_x86_64.manylinux2014_x86_64.whl (21.8 MB)\n",
            "\u001b[K     |████████████████████████████████| 21.8 MB 1.2 MB/s \n",
            "\u001b[?25hInstalling collected packages: pygame\n",
            "Successfully installed pygame-2.1.2\n"
          ]
        }
      ]
    },
    {
      "cell_type": "code",
      "source": [
        "# install the Pillow PIL library to generate 2D maze\n",
        "!pip install Pillow "
      ],
      "metadata": {
        "colab": {
          "base_uri": "https://localhost:8080/"
        },
        "id": "0Kc0ZPGcNtql",
        "outputId": "44a7c03f-c269-4ca9-c052-ac65c7b236d5"
      },
      "execution_count": 4,
      "outputs": [
        {
          "output_type": "stream",
          "name": "stdout",
          "text": [
            "Looking in indexes: https://pypi.org/simple, https://us-python.pkg.dev/colab-wheels/public/simple/\n",
            "Requirement already satisfied: Pillow in /usr/local/lib/python3.7/dist-packages (7.1.2)\n"
          ]
        }
      ]
    },
    {
      "cell_type": "code",
      "source": [
        "# library to generate random Mazes and Navigate the path and project description\n",
        "!pip install pyamaze"
      ],
      "metadata": {
        "colab": {
          "base_uri": "https://localhost:8080/"
        },
        "id": "mSENGBT7vF_x",
        "outputId": "f5ab77cd-5c0c-4818-bb5d-0d24e2dc93dd"
      },
      "execution_count": 5,
      "outputs": [
        {
          "output_type": "stream",
          "name": "stdout",
          "text": [
            "Looking in indexes: https://pypi.org/simple, https://us-python.pkg.dev/colab-wheels/public/simple/\n",
            "Collecting pyamaze\n",
            "  Downloading pyamaze-1.0.1.tar.gz (9.9 kB)\n",
            "Building wheels for collected packages: pyamaze\n",
            "  Building wheel for pyamaze (setup.py) ... \u001b[?25l\u001b[?25hdone\n",
            "  Created wheel for pyamaze: filename=pyamaze-1.0.1-py3-none-any.whl size=9778 sha256=ec901dd9edec3914948d06dba2f01b82ad5ef1e04b0fee386fade847c5e9e61c\n",
            "  Stored in directory: /root/.cache/pip/wheels/2f/7d/e0/93a34d9306df2056f717501fb0da86b0e226e3babfa263e19c\n",
            "Successfully built pyamaze\n",
            "Installing collected packages: pyamaze\n",
            "Successfully installed pyamaze-1.0.1\n"
          ]
        }
      ]
    },
    {
      "cell_type": "code",
      "source": [
        "import helpers # reusable functions for routine automation\n",
        "import numpy as np\n",
        "import random\n",
        "import pygame # module to work with mazes\n",
        "import heapq # importing \"heapq\" to implement heap queue\n",
        "import matplotlib.pyplot as plt\n",
        "import matplotlib.animation as animation\n",
        "import seaborn as sns\n",
        "import turtle # enables users to create pictures and shapes by providing them with a virtual canvas\n",
        "import queue # multi-producer, multi-consumer queues, especially useful in threaded programming \n",
        "import operator # arithmetic operators, assignment operators, comparison operators, logical operators\n",
        "import itertools # module to produce complex iterators\n",
        "import networkx as nx # to create the decision tree\n",
        "import cv2 # functions to read video, read images, etc.\n",
        "import os # module to work with mac file system\n",
        "import sys"
      ],
      "metadata": {
        "id": "nh7JWUtHoIr-"
      },
      "execution_count": 47,
      "outputs": []
    },
    {
      "cell_type": "code",
      "execution_count": 46,
      "metadata": {
        "id": "HgyIf0SxnLo4"
      },
      "outputs": [],
      "source": [
        "from helpers import * # reusable functions for routine automation\n",
        "from pyamaze import maze # to work with mazes\n",
        "from pyamaze import agent # simulate the maze and the agent navigation on that maze\n",
        "from pyamaze import textLabel \n",
        "from queue import PriorityQueue \n",
        "from tkinter import * # binding to the toolkit, standard Python interface\n",
        "from enum import Enum # symbolic names for enumerators\n",
        "from random import choice # method returns a randomly selected element from the specified sequence\n",
        "from threading import Thread # create and manage new threads\n",
        "from time import sleep # add e.g. delay to execution programm\n",
        "from collections import deque # deques are faster than lists\n",
        "from PIL import Image \n",
        "from PIL import ImageDraw # 2D graphics for images\n",
        "sns.set() # "
      ]
    },
    {
      "cell_type": "code",
      "source": [
        "# 1. BFS (breadth first search) algorithm\n",
        "\n",
        "# the graph is represented by dictionary data structure called graph\n",
        "\n",
        "graph = {\n",
        "  '1' : ['2','3'],\n",
        "  '2' : ['4', '5'],\n",
        "  '3' : ['6'],\n",
        "  '4' : [],\n",
        "  '5' : ['6','7'],\n",
        "  '6' : [],\n",
        "  '7' : []\n",
        "}\n",
        "\n",
        "# list is ordered, mutable, elements can be duplicated, indexing\n",
        "\n",
        "visited = [] # list to keep track of visited nodes\n",
        "\n",
        "queue = []   # initialize a queue (based on FIFO), keep track of nodes currently in the queue\n",
        "\n",
        "\n",
        "#  arguments: visited, the graph in the form of a dictionary, the starting node 1\n",
        "\n",
        "def bfs(visited, graph, node):\n",
        "  visited.append(node)\n",
        "  queue.append(node) #  FIFO order for queue\n",
        "\n",
        "#  function checks and appends the starting node to the visited list and the queue\n",
        "#  while the queue contains elements, it keeps taking out nodes from the queue FIFO\n",
        "#  this continues until the queue is empty\n",
        "\n",
        "  while queue:\n",
        "    s = queue.pop(0) \n",
        "    print (s, end = \" \") \n",
        "\n",
        "    for neighbour in graph[s]:\n",
        "      if neighbour not in visited:\n",
        "        visited.append(neighbour)\n",
        "        queue.append(neighbour)\n",
        "\n",
        "# implementing BFS algorithm, it sorted nodes\n",
        "\n",
        "bfs(visited, graph, '1')"
      ],
      "metadata": {
        "colab": {
          "base_uri": "https://localhost:8080/"
        },
        "id": "4YyIMIapOPeu",
        "outputId": "ff3dd79c-3fe0-42df-9d84-479bf473a46e"
      },
      "execution_count": 26,
      "outputs": [
        {
          "output_type": "stream",
          "name": "stdout",
          "text": [
            "1 2 3 4 5 6 7 "
          ]
        }
      ]
    },
    {
      "cell_type": "code",
      "source": [
        "g=nx.DiGraph()\n",
        "g.add_edges_from([(1,2), (1,3), (2,4), (2,5), (3,6), (3,7)])\n",
        "p=nx.drawing.nx_pydot.to_pydot(g)\n",
        "p.write_png('BFS.png')"
      ],
      "metadata": {
        "id": "6aq3siA8Tkrb"
      },
      "execution_count": 25,
      "outputs": []
    },
    {
      "cell_type": "code",
      "source": [
        "# 2. DFS ( depth first search) algorithm\n",
        "\n",
        "# using a Python dictionary to create a Graph object\n",
        "\n",
        "graph = {\n",
        "  '1' : ['2','3'],\n",
        "  '2' : ['4', '5'],\n",
        "  '3' : ['6'],\n",
        "  '4' : [],\n",
        "  '5' : ['6','7'],\n",
        "  '6' : [],\n",
        "  '7' : []\n",
        "\n",
        "}\n",
        "\n",
        "# set is not ordered (neither FIFO nor LIFO), mutable, elements are not duplicated, indexing\n",
        "visited = set() # use set, not the list, to keep track of visited nodes\n",
        "\n",
        "def dfs(visited, graph, node):\n",
        "    if node not in visited:\n",
        "        print (node)\n",
        "        visited.add(node)\n",
        "        for neighbour in graph[node]:\n",
        "            dfs(visited, graph, neighbour)\n",
        "\n",
        "# implementing DFS algorithm\n",
        "\n",
        "dfs(visited, graph, '1')"
      ],
      "metadata": {
        "colab": {
          "base_uri": "https://localhost:8080/"
        },
        "id": "Wj9VeF7IWG8c",
        "outputId": "15880b28-69bc-4251-a6ef-b14e7987c228"
      },
      "execution_count": 28,
      "outputs": [
        {
          "output_type": "stream",
          "name": "stdout",
          "text": [
            "1\n",
            "2\n",
            "4\n",
            "5\n",
            "6\n",
            "7\n",
            "3\n"
          ]
        }
      ]
    },
    {
      "cell_type": "code",
      "source": [
        "g=nx.DiGraph()\n",
        "g.add_edges_from([(1,2), (1,5), (2,3), (2,4), (5,6), (5,7)])\n",
        "p=nx.drawing.nx_pydot.to_pydot(g)\n",
        "p.write_png('DFS.png')"
      ],
      "metadata": {
        "id": "Zo_bsescTl25"
      },
      "execution_count": 29,
      "outputs": []
    },
    {
      "cell_type": "code",
      "source": [
        "# 3. Heapify an incomplete list to min heap tree by heapq\n",
        "\n",
        "# create a list\n",
        "\n",
        "li = [5, 7, 9, 1, 3, 10, 6, 14]\n",
        " \n",
        "# using heapify to convert list into a min span tree (MST) heap\n",
        "# in maximum span tree the first node is the largest\n",
        "# in minimum span tree the first node is the smallest\n",
        "heapq.heapify(li)\n",
        " \n",
        "# printing a created min heap tree\n",
        "# top tree node is 1, second 2 nodes are 3 and 6, node 3 chains to 7 and 5, node 6 splits to 10 and 8, ...\n",
        "print (\"The created heap is : \",(list(li)))"
      ],
      "metadata": {
        "colab": {
          "base_uri": "https://localhost:8080/"
        },
        "id": "J4BVWKCzlbwu",
        "outputId": "99a29859-1cd5-4f57-d966-d2d60ae04516"
      },
      "execution_count": 30,
      "outputs": [
        {
          "output_type": "stream",
          "name": "stdout",
          "text": [
            "The created heap is :  [1, 3, 6, 7, 5, 10, 9, 14]\n"
          ]
        }
      ]
    },
    {
      "cell_type": "code",
      "source": [
        "g=nx.DiGraph()\n",
        "g.add_edges_from([(1,3), (1,6), (3,7), (3,5), (6,10), (6,8), (7,14)])\n",
        "p=nx.drawing.nx_pydot.to_pydot(g)\n",
        "p.write_png('heap.png')"
      ],
      "metadata": {
        "id": "16Igb4YIS6B7"
      },
      "execution_count": 31,
      "outputs": []
    },
    {
      "cell_type": "code",
      "source": [
        "# 4. implement LIFO stack by list\n",
        "\n",
        "# Python program to demonstrate stack implementation using list. You can implement stack by list, queue or decque. \n",
        "# use decque if you do not use threading\n",
        "\n",
        "stack = [] # based on LIFO\n",
        " \n",
        "# append() function to push, each element is added in the stack\n",
        "\n",
        "stack.append('a') \n",
        "stack.append('b')\n",
        "stack.append('c')\n",
        " \n",
        "print('Initial stack, list as we created:')\n",
        "\n",
        "print(stack)\n",
        " \n",
        "# pop() function to pop element from stack in LIFO order\n",
        "\n",
        "print('\\nElements popped from stack, LIFO:')\n",
        "\n",
        "print(stack.pop())\n",
        "print(stack.pop())\n",
        "print(stack.pop())\n",
        " \n",
        "print('\\nStack after elements are popped, empty stack:')\n",
        "\n",
        "print(stack)"
      ],
      "metadata": {
        "colab": {
          "base_uri": "https://localhost:8080/"
        },
        "id": "y52PUe_onnWo",
        "outputId": "75db1a55-9ce0-4e87-9dcc-e247896bb296"
      },
      "execution_count": 32,
      "outputs": [
        {
          "output_type": "stream",
          "name": "stdout",
          "text": [
            "Initial stack, list as we created:\n",
            "['a', 'b', 'c']\n",
            "\n",
            "Elements popped from stack, LIFO:\n",
            "c\n",
            "b\n",
            "a\n",
            "\n",
            "Stack after elements are popped, empty stack:\n",
            "[]\n"
          ]
        }
      ]
    },
    {
      "cell_type": "code",
      "source": [
        "# 5. Create the basic stack class stack.py and use it to work with text"
      ],
      "metadata": {
        "id": "gAt09PvldUTn"
      },
      "execution_count": 33,
      "outputs": []
    },
    {
      "cell_type": "code",
      "source": [
        "# create a stack class with basic stack steps\n",
        "\n",
        "class Stack:\n",
        "  \n",
        "    def __init__(self):\n",
        "        self.items = []\n",
        "        \n",
        "    def is_empty(self):\n",
        "        return not self.items\n",
        "      \n",
        "    def push(self, item):\n",
        "        self.items.append(item)\n",
        "        \n",
        "    def pop(self):\n",
        "        if self.items:\n",
        "            return self.items.pop()\n",
        "        else:\n",
        "            return None\n",
        "          \n",
        "    def peek(self):\n",
        "        if self.items:\n",
        "            return self.items[-1]\n",
        "        else:\n",
        "            return None\n",
        "          \n",
        "    def size(self):\n",
        "        return len(self.items)\n",
        "      \n",
        "    def __str__(self):\n",
        "        return str(self.items)"
      ],
      "metadata": {
        "id": "1BztJpimdXyl"
      },
      "execution_count": 34,
      "outputs": []
    },
    {
      "cell_type": "code",
      "source": [
        "# import the abstract stack class, previous code is saved in the same folder in files: stack.py\n",
        "\n",
        "# call stack.py\n",
        "import stack\n",
        "\n",
        "# create a string\n",
        "string  = \".tuo tsal ni tsrif ,OLIF ,kcats a ni ecnetnes a esreveR\"\n",
        "\n",
        "# create an empty string \n",
        "reverse_string = \"\"\n",
        "\n",
        "# create a new stack\n",
        "s = stack.Stack()\n",
        "\n",
        "# loop over the characterers in the string and push each char to the empty stack\n",
        "for char in string:\n",
        "    s.push(char)\n",
        "\n",
        "# while the stack is not empty add the last character in the stack to the empty string\n",
        "while s.is_empty() == False:\n",
        "\n",
        "    reverse_string = reverse_string + str(s.pop())\n",
        "\n",
        "# print the outcome\n",
        "print(reverse_string)"
      ],
      "metadata": {
        "colab": {
          "base_uri": "https://localhost:8080/"
        },
        "id": "dda36YQTd9i9",
        "outputId": "010ce817-2ed9-469c-c7b7-0680fdef2938"
      },
      "execution_count": 39,
      "outputs": [
        {
          "output_type": "stream",
          "name": "stdout",
          "text": [
            "Reverse a sentence in a stack, FILO, first in last out.\n"
          ]
        }
      ]
    },
    {
      "cell_type": "code",
      "source": [
        "# 6. Define the basic 2D maze\n",
        "maze = [\n",
        "    ['5', ' ', '5', ' ', '4', ' ', '1', ' ', '0', ' ', '1'], \n",
        "    ['#', ' ', '#', '#', '#'], \n",
        "    ['#', ' ', '#', ' ', '#'], \n",
        "    ['#', ' ', '#', ' ', '#'], \n",
        "    ['#', ' ', ' ', ' ', '#'], \n",
        "    ['#', ' ', '#', '#', '#']]"
      ],
      "metadata": {
        "id": "C6cFR8UHXQGR"
      },
      "execution_count": 40,
      "outputs": []
    },
    {
      "cell_type": "code",
      "source": [
        "for i in maze:\n",
        "    print(\"\".join(i))"
      ],
      "metadata": {
        "colab": {
          "base_uri": "https://localhost:8080/"
        },
        "id": "Gq197V0BYSLE",
        "outputId": "eb5493b7-a72b-4846-a6b6-340e4913a4b7"
      },
      "execution_count": 41,
      "outputs": [
        {
          "output_type": "stream",
          "name": "stdout",
          "text": [
            "5 5 4 1 0 1\n",
            "# ###\n",
            "# # #\n",
            "# # #\n",
            "#   #\n",
            "# ###\n"
          ]
        }
      ]
    },
    {
      "cell_type": "code",
      "source": [
        "# 7. Define a BFS (bredth first search) 2D maze, save animation to gif\n",
        "\n",
        "images = []\n",
        "\n",
        "a = [\n",
        "    [1, 1, 1, 1, 1, 1, 1, 1, 1, 1, 1, 1, 1, 1, 1, 1, 1, 1, 1, 1],\n",
        "    [1, 0, 1, 0, 0, 0, 0, 0, 0, 1, 0 ,0, 0, 0, 0, 0, 0, 0, 0, 1],\n",
        "    [1, 0, 1, 0, 1, 0, 0, 0, 0, 0, 0 ,0, 0, 0, 0, 0, 0, 0, 0, 1],\n",
        "    [1, 0, 1, 0, 1, 1, 1, 1, 0, 1, 0 ,0, 0, 0, 0, 0, 0, 0, 0, 1],\n",
        "    [1, 0, 1, 0, 0, 0, 0, 1, 0, 1, 0 ,0, 0, 0, 1, 0, 1, 1, 1, 1],\n",
        "    [1, 0, 1, 1, 1, 1, 1, 1, 0, 1, 0 ,0, 0, 0, 1, 0, 0, 0, 0, 0],\n",
        "    [1, 0, 0, 0, 0, 0, 0, 1, 0, 1, 0 ,0, 0, 0, 1, 1, 1, 1, 1, 1],\n",
        "    [1, 1, 1, 0, 0, 0, 0, 0, 0, 1, 0 ,0, 0, 0, 0, 0, 0, 0, 0, 1],\n",
        "    [1, 1, 1, 0, 0, 0, 0, 0, 0, 1, 0 ,0, 0, 0, 0, 0, 0, 0, 0, 1],\n",
        "    [1, 1, 1, 1, 1, 1, 1, 1, 1, 1, 1, 1, 1, 1, 1, 1, 1, 1, 1, 1],\n",
        "]\n",
        "zoom = 20\n",
        "borders = 6\n",
        "start = 1,1\n",
        "end = 5,19\n",
        "\n",
        "def make_step(k):\n",
        "  for i in range(len(m)):\n",
        "    for j in range(len(m[i])):\n",
        "      if m[i][j] == k:\n",
        "        if i>0 and m[i-1][j] == 0 and a[i-1][j] == 0:\n",
        "          m[i-1][j] = k + 1\n",
        "        if j>0 and m[i][j-1] == 0 and a[i][j-1] == 0:\n",
        "          m[i][j-1] = k + 1\n",
        "        if i<len(m)-1 and m[i+1][j] == 0 and a[i+1][j] == 0:\n",
        "          m[i+1][j] = k + 1\n",
        "        if j<len(m[i])-1 and m[i][j+1] == 0 and a[i][j+1] == 0:\n",
        "           m[i][j+1] = k + 1\n",
        "\n",
        "def print_m(m):\n",
        "    for i in range(len(m)):\n",
        "        for j in range(len(m[i])):\n",
        "            print( str(m[i][j]).ljust(2),end=' ')\n",
        "        print()\n",
        "\n",
        "\n",
        "# Black is [0,0,0], and White is [255, 255, 255]; Gray is any [x,x,x] where all the numbers are the same.\n",
        "\n",
        "def draw_matrix(a,m, the_path = []):\n",
        "    im = Image.new('RGB', (zoom * len(a[0]), zoom * len(a)), (255, 255, 255))\n",
        "    draw = ImageDraw.Draw(im)\n",
        "    for i in range(len(a)):\n",
        "        for j in range(len(a[i])):\n",
        "            color = (255, 255, 255)\n",
        "            r = 0\n",
        "            if a[i][j] == 1:\n",
        "                color = (60, 60, 60)\n",
        "            if i == start[0] and j == start[1]:\n",
        "                color = (192, 192, 192)\n",
        "                r = borders\n",
        "            if i == end[0] and j == end[1]:\n",
        "                color = (192, 192, 192)\n",
        "                r = borders\n",
        "            draw.rectangle((j*zoom+r, i*zoom+r, j*zoom+zoom-r-1, i*zoom+zoom-r-1), fill=color)\n",
        "            if m[i][j] > 0:\n",
        "                r = borders\n",
        "                draw.ellipse((j * zoom + r, i * zoom + r, j * zoom + zoom - r - 1, i * zoom + zoom - r - 1),\n",
        "                               fill=(220,220,220))\n",
        "    for u in range(len(the_path)-1):\n",
        "        y = the_path[u][0]*zoom + int(zoom/2)\n",
        "        x = the_path[u][1]*zoom + int(zoom/2)\n",
        "        y1 = the_path[u+1][0]*zoom + int(zoom/2)\n",
        "        x1 = the_path[u+1][1]*zoom + int(zoom/2)\n",
        "        draw.line((x,y,x1,y1), fill=(220, 220,220), width=5)\n",
        "    draw.rectangle((0, 0, zoom * len(a[0]), zoom * len(a)), outline=(192,192,192), width=2)\n",
        "    images.append(im)\n",
        "\n",
        "\n",
        "m = []\n",
        "for i in range(len(a)):\n",
        "    m.append([])\n",
        "    for j in range(len(a[i])):\n",
        "        m[-1].append(0)\n",
        "i,j = start\n",
        "m[i][j] = 1\n",
        "\n",
        "k = 0\n",
        "while m[end[0]][end[1]] == 0:\n",
        "    k += 1\n",
        "    make_step(k)\n",
        "    draw_matrix(a, m)\n",
        "\n",
        "\n",
        "i, j = end\n",
        "k = m[i][j]\n",
        "the_path = [(i,j)]\n",
        "while k > 1:\n",
        "  if i > 0 and m[i - 1][j] == k-1:\n",
        "    i, j = i-1, j\n",
        "    the_path.append((i, j))\n",
        "    k-=1\n",
        "  elif j > 0 and m[i][j - 1] == k-1:\n",
        "    i, j = i, j-1\n",
        "    the_path.append((i, j))\n",
        "    k-=1\n",
        "  elif i < len(m) - 1 and m[i + 1][j] == k-1:\n",
        "    i, j = i+1, j\n",
        "    the_path.append((i, j))\n",
        "    k-=1\n",
        "  elif j < len(m[i]) - 1 and m[i][j + 1] == k-1:\n",
        "    i, j = i, j+1\n",
        "    the_path.append((i, j))\n",
        "    k -= 1\n",
        "  draw_matrix(a, m, the_path)\n",
        "\n",
        "for i in range(10):\n",
        "    if i % 2 == 0:\n",
        "        draw_matrix(a, m, the_path)\n",
        "    else:\n",
        "        draw_matrix(a, m)\n",
        "\n",
        "print_m(m)\n",
        "print(the_path)\n",
        "\n",
        "\n",
        "images[0].save('maze.gif',\n",
        "               save_all=True, append_images=images[1:],\n",
        "               optimize=False, duration=1, loop=0)"
      ],
      "metadata": {
        "colab": {
          "base_uri": "https://localhost:8080/"
        },
        "id": "j2npfeFuN0z8",
        "outputId": "d8dd6116-fd84-46b4-b031-4142b30afdc4"
      },
      "execution_count": 42,
      "outputs": [
        {
          "output_type": "stream",
          "name": "stdout",
          "text": [
            "0  0  0  0  0  0  0  0  0  0  0  0  0  0  0  0  0  0  0  0  \n",
            "0  1  0  25 24 23 22 21 20 0  22 23 24 25 26 27 28 29 30 0  \n",
            "0  2  0  26 0  22 21 20 19 20 21 22 23 24 25 26 27 28 29 0  \n",
            "0  3  0  27 0  0  0  0  18 0  22 23 24 25 26 27 28 29 30 0  \n",
            "0  4  0  28 29 30 31 0  17 0  23 24 25 26 0  28 0  0  0  0  \n",
            "0  5  0  0  0  0  0  0  16 0  24 25 26 27 0  29 30 31 32 33 \n",
            "0  6  7  8  9  10 11 0  15 0  25 26 27 28 0  0  0  0  0  0  \n",
            "0  0  0  9  10 11 12 13 14 0  26 27 28 29 30 31 32 33 0  0  \n",
            "0  0  0  10 11 12 13 14 15 0  27 28 29 30 31 32 33 0  0  0  \n",
            "0  0  0  0  0  0  0  0  0  0  0  0  0  0  0  0  0  0  0  0  \n",
            "[(5, 19), (5, 18), (5, 17), (5, 16), (5, 15), (4, 15), (3, 15), (2, 15), (2, 14), (2, 13), (2, 12), (2, 11), (2, 10), (2, 9), (2, 8), (3, 8), (4, 8), (5, 8), (6, 8), (7, 8), (7, 7), (7, 6), (6, 6), (6, 5), (6, 4), (6, 3), (6, 2), (6, 1), (5, 1), (4, 1), (3, 1), (2, 1), (1, 1)]\n"
          ]
        }
      ]
    },
    {
      "cell_type": "code",
      "source": [
        "# 8. use own maze png image and locate start and end point into the image\n",
        "\n",
        "img = cv2.imread('maze.png') # read an image from a file using\n",
        "cv2.circle(img,(10,220), 3, (0,0,0), -1) # add a black point at (10, 220)\n",
        "cv2.circle(img, (25,5), 3, (190,190,190), -1) # add a gray point at (5,5)\n",
        "plt.figure(figsize=(7,7))\n",
        "plt.imshow(img) # show the maze.png image with 2 points\n",
        "plt.show()"
      ],
      "metadata": {
        "colab": {
          "base_uri": "https://localhost:8080/",
          "height": 434
        },
        "id": "AVBbqZqAVSAH",
        "outputId": "9e2dce81-0507-4bbf-aa1f-80543818a137"
      },
      "execution_count": 44,
      "outputs": [
        {
          "output_type": "display_data",
          "data": {
            "text/plain": [
              "<Figure size 504x504 with 1 Axes>"
            ],
            "image/png": "[encoded data removed]"
          },
          "metadata": {}
        }
      ]
    },
    {
      "cell_type": "code",
      "source": [
        "# 9. Define a Dijkstra 2D maze, save animation to gif\n",
        "\n",
        "# helper functions and classes\n",
        "class Vertex:\n",
        "    def __init__(self,x_coord,y_coord):\n",
        "        self.x=x_coord\n",
        "        self.y=y_coord\n",
        "        self.d=float('inf') #distance from source\n",
        "        self.parent_x=None\n",
        "        self.parent_y=None\n",
        "        self.processed=False\n",
        "        self.index_in_queue=None\n",
        "\n",
        "# teturn neighbor directly above, below, right, and left\n",
        "\n",
        "def get_neighbors(mat,r,c):\n",
        "    shape=mat.shape\n",
        "    neighbors=[]\n",
        "    #ensure neighbors are within image boundaries\n",
        "    if r > 0 and not mat[r-1][c].processed:\n",
        "         neighbors.append(mat[r-1][c])\n",
        "    if r < shape[0] - 1 and not mat[r+1][c].processed:\n",
        "            neighbors.append(mat[r+1][c])\n",
        "    if c > 0 and not mat[r][c-1].processed:\n",
        "        neighbors.append(mat[r][c-1])\n",
        "    if c < shape[1] - 1 and not mat[r][c+1].processed:\n",
        "            neighbors.append(mat[r][c+1])\n",
        "    return neighbors\n",
        "\n",
        "def bubble_up(queue, index):\n",
        "    if index <= 0:\n",
        "        return queue\n",
        "    p_index=(index-1)//2\n",
        "    if queue[index].d < queue[p_index].d:\n",
        "            queue[index], queue[p_index]=queue[p_index], queue[index]\n",
        "            queue[index].index_in_queue=index\n",
        "            queue[p_index].index_in_queue=p_index\n",
        "            quque = bubble_up(queue, p_index)\n",
        "    return queue\n",
        "    \n",
        "def bubble_down(queue, index):\n",
        "    length=len(queue)\n",
        "    lc_index=2*index+1\n",
        "    rc_index=lc_index+1\n",
        "    if lc_index >= length:\n",
        "        return queue\n",
        "    if lc_index < length and rc_index >= length: #just left child\n",
        "        if queue[index].d > queue[lc_index].d:\n",
        "            queue[index], queue[lc_index]=queue[lc_index], queue[index]\n",
        "            queue[index].index_in_queue=index\n",
        "            queue[lc_index].index_in_queue=lc_index\n",
        "            queue = bubble_down(queue, lc_index)\n",
        "    else:\n",
        "        small = lc_index\n",
        "        if queue[lc_index].d > queue[rc_index].d:\n",
        "            small = rc_index\n",
        "        if queue[small].d < queue[index].d:\n",
        "            queue[index],queue[small]=queue[small],queue[index]\n",
        "            queue[index].index_in_queue=index\n",
        "            queue[small].index_in_queue=small\n",
        "            queue = bubble_down(queue, small)\n",
        "    return queue\n",
        "\n",
        "def get_distance(img,u,v):\n",
        "    return 0.1 + (float(img[v][0])-float(img[u][0]))**2+(float(img[v][1])-float(img[u][1]))**2+(float(img[v][2])-float(img[u][2]))**2\n",
        "\n",
        "def drawPath(img,path, thickness=2):\n",
        "    '''path is a list of (x,y) tuples'''\n",
        "    x0,y0=path[0]\n",
        "    for vertex in path[1:]:\n",
        "        x1,y1=vertex\n",
        "        cv2.line(img,(x0,y0),(x1,y1),(190,190,190),thickness)\n",
        "        x0,y0=vertex"
      ],
      "metadata": {
        "id": "OE5TZebsZX7y"
      },
      "execution_count": 45,
      "outputs": []
    },
    {
      "cell_type": "code",
      "source": [
        "def find_shortest_path(img,src,dst):\n",
        "    pq=[] #min-heap priority queue\n",
        "    source_x=src[0]\n",
        "    source_y=src[1]\n",
        "    dest_x=dst[0]\n",
        "    dest_y=dst[1]\n",
        "    imagerows,imagecols=img.shape[0],img.shape[1]\n",
        "    matrix = np.full((imagerows, imagecols), None) #access by matrix[row][col]\n",
        "    for r in range(imagerows):\n",
        "        for c in range(imagecols):\n",
        "            matrix[r][c]=Vertex(c,r)\n",
        "            matrix[r][c].index_in_queue=len(pq)\n",
        "            pq.append(matrix[r][c])\n",
        "    matrix[source_y][source_x].d=0\n",
        "    pq=bubble_up(pq, matrix[source_y][source_x].index_in_queue)\n",
        "    \n",
        "    while len(pq) > 0:\n",
        "        u=pq[0]\n",
        "        u.processed=True\n",
        "        pq[0]=pq[-1]\n",
        "        pq[0].index_in_queue=0\n",
        "        pq.pop()\n",
        "        pq=bubble_down(pq,0)\n",
        "        neighbors = get_neighbors(matrix,u.y,u.x)\n",
        "        for v in neighbors:\n",
        "            dist=get_distance(img,(u.y,u.x),(v.y,v.x))\n",
        "            if u.d + dist < v.d:\n",
        "                v.d = u.d+dist\n",
        "                v.parent_x=u.x\n",
        "                v.parent_y=u.y\n",
        "                idx=v.index_in_queue\n",
        "                pq=bubble_down(pq,idx)\n",
        "                pq=bubble_up(pq,idx)\n",
        "                          \n",
        "    path=[]\n",
        "    iter_v=matrix[dest_y][dest_x]\n",
        "    path.append((dest_x,dest_y))\n",
        "    while(iter_v.y!=source_y or iter_v.x!=source_x):\n",
        "        path.append((iter_v.x,iter_v.y))\n",
        "        iter_v=matrix[iter_v.parent_y][iter_v.parent_x]\n",
        "\n",
        "        \n",
        "    path.append((source_x,source_y))\n",
        "    return path"
      ],
      "metadata": {
        "id": "xk-vnZaviP23"
      },
      "execution_count": null,
      "outputs": []
    },
    {
      "cell_type": "code",
      "source": [
        "img = cv2.imread('maze.png') # read image\n",
        "cv2.imwrite('maze-initial.png', img)\n",
        "p = find_shortest_path(img, (25,5), (10,220))\n",
        "drawPath(img,p)\n",
        "cv2.imwrite('maze-solution.png', img)\n",
        "plt.figure(figsize=(7,7))\n",
        "plt.imshow(img) # show the image on the screen \n",
        "plt.show()"
      ],
      "metadata": {
        "colab": {
          "base_uri": "https://localhost:8080/",
          "height": 434
        },
        "id": "aDLnww83iRbt",
        "outputId": "0c5a8220-e23c-4f9c-99e9-8ed4c87a2808"
      },
      "execution_count": null,
      "outputs": [
        {
          "output_type": "display_data",
          "data": {
            "text/plain": [
              "<Figure size 504x504 with 1 Axes>"
            ],
            "image/png": "[encoded data removed]"
          },
          "metadata": {}
        }
      ]
    },
    {
      "cell_type": "code",
      "source": [],
      "metadata": {
        "id": "ntS8K6t6iRek"
      },
      "execution_count": null,
      "outputs": []
    }
  ]
}