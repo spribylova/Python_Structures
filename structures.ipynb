{
  "nbformat": 4,
  "nbformat_minor": 0,
  "metadata": {
    "colab": {
      "provenance": []
    },
    "kernelspec": {
      "name": "python3",
      "display_name": "Python 3"
    },
    "language_info": {
      "name": "python"
    }
  },
  "cells": [
    {
      "cell_type": "code",
      "source": [
        "# Data structures"
      ],
      "metadata": {
        "id": "jalmKRttuW4z"
      },
      "execution_count": null,
      "outputs": []
    },
    {
      "cell_type": "code",
      "source": [
        "# library for reusable functions for routine automation.\n",
        "pip install helpers"
      ],
      "metadata": {
        "colab": {
          "base_uri": "https://localhost:8080/",
          "height": 130
        },
        "id": "Aln_RZuSoEUI",
        "outputId": "109806e2-4617-4879-ebbb-965712a2326a"
      },
      "execution_count": 59,
      "outputs": [
        {
          "output_type": "error",
          "ename": "SyntaxError",
          "evalue": "ignored",
          "traceback": [
            "\u001b[0;36m  File \u001b[0;32m\"<ipython-input-59-15544ccf8b52>\"\u001b[0;36m, line \u001b[0;32m2\u001b[0m\n\u001b[0;31m    pip install helpers\u001b[0m\n\u001b[0m              ^\u001b[0m\n\u001b[0;31mSyntaxError\u001b[0m\u001b[0;31m:\u001b[0m invalid syntax\n"
          ]
        }
      ]
    },
    {
      "cell_type": "code",
      "source": [
        "pip install pygame"
      ],
      "metadata": {
        "colab": {
          "base_uri": "https://localhost:8080/"
        },
        "id": "cvMqDLHIj3W2",
        "outputId": "c3cd1401-f12d-4c4e-e45f-57537452d82f"
      },
      "execution_count": 60,
      "outputs": [
        {
          "output_type": "stream",
          "name": "stdout",
          "text": [
            "Looking in indexes: https://pypi.org/simple, https://us-python.pkg.dev/colab-wheels/public/simple/\n",
            "Collecting pygame\n",
            "  Downloading pygame-2.1.2-cp37-cp37m-manylinux_2_17_x86_64.manylinux2014_x86_64.whl (21.8 MB)\n",
            "\u001b[K     |████████████████████████████████| 21.8 MB 56.3 MB/s \n",
            "\u001b[?25hInstalling collected packages: pygame\n",
            "Successfully installed pygame-2.1.2\n"
          ]
        }
      ]
    },
    {
      "cell_type": "code",
      "source": [
        "# library to generate Mazes and Navigate the path. Navigation. Project description\n",
        "pip install pyamaze"
      ],
      "metadata": {
        "colab": {
          "base_uri": "https://localhost:8080/",
          "height": 130
        },
        "id": "mSENGBT7vF_x",
        "outputId": "575da351-84e3-44e4-f82a-c092b0d061ac"
      },
      "execution_count": 66,
      "outputs": [
        {
          "output_type": "error",
          "ename": "SyntaxError",
          "evalue": "ignored",
          "traceback": [
            "\u001b[0;36m  File \u001b[0;32m\"<ipython-input-66-908e0040ee52>\"\u001b[0;36m, line \u001b[0;32m2\u001b[0m\n\u001b[0;31m    pip install pyamaze\u001b[0m\n\u001b[0m              ^\u001b[0m\n\u001b[0;31mSyntaxError\u001b[0m\u001b[0;31m:\u001b[0m invalid syntax\n"
          ]
        }
      ]
    },
    {
      "cell_type": "code",
      "source": [
        "# create virtual display\n",
        "!apt-get install -y xvfb # Install X Virtual Frame Buffer\n",
        "import os\n",
        "os.system('Xvfb :1 -screen 0 1600x1200x16  &')    # create virtual display with size 1600x1200 and 16 bit color. Color can be changed to 24 or 8\n",
        "os.environ['DISPLAY']=':1.0'    # tell X clients to use our virtual DISPLAY :1.0.\n",
        "%matplotlib inline\n",
        "# Install ghostscript (Required to display NLTK trees)\n",
        "!apt install ghostscript python3-tk"
      ],
      "metadata": {
        "colab": {
          "base_uri": "https://localhost:8080/"
        },
        "id": "hOr4eFaEQaeL",
        "outputId": "9a95856d-5e64-4a0d-eff6-95cef99dfef6"
      },
      "execution_count": 13,
      "outputs": [
        {
          "output_type": "stream",
          "name": "stdout",
          "text": [
            "Reading package lists... Done\n",
            "Building dependency tree       \n",
            "Reading state information... Done\n",
            "The following package was automatically installed and is no longer required:\n",
            "  libnvidia-common-460\n",
            "Use 'apt autoremove' to remove it.\n",
            "The following NEW packages will be installed:\n",
            "  xvfb\n",
            "0 upgraded, 1 newly installed, 0 to remove and 5 not upgraded.\n",
            "Need to get 785 kB of archives.\n",
            "After this operation, 2,271 kB of additional disk space will be used.\n",
            "Get:1 http://archive.ubuntu.com/ubuntu bionic-updates/universe amd64 xvfb amd64 2:1.19.6-1ubuntu4.11 [785 kB]\n",
            "Fetched 785 kB in 1s (1,226 kB/s)\n",
            "Selecting previously unselected package xvfb.\n",
            "(Reading database ... 123991 files and directories currently installed.)\n",
            "Preparing to unpack .../xvfb_2%3a1.19.6-1ubuntu4.11_amd64.deb ...\n",
            "Unpacking xvfb (2:1.19.6-1ubuntu4.11) ...\n",
            "Setting up xvfb (2:1.19.6-1ubuntu4.11) ...\n",
            "Processing triggers for man-db (2.8.3-2ubuntu0.1) ...\n",
            "Reading package lists... Done\n",
            "Building dependency tree       \n",
            "Reading state information... Done\n",
            "python3-tk is already the newest version (3.6.9-1~18.04).\n",
            "The following package was automatically installed and is no longer required:\n",
            "  libnvidia-common-460\n",
            "Use 'apt autoremove' to remove it.\n",
            "The following additional packages will be installed:\n",
            "  fonts-droid-fallback fonts-noto-mono gsfonts libcupsfilters1 libcupsimage2\n",
            "  libgs9 libgs9-common libijs-0.35 libjbig2dec0 poppler-data\n",
            "Suggested packages:\n",
            "  fonts-noto ghostscript-x poppler-utils fonts-japanese-mincho\n",
            "  | fonts-ipafont-mincho fonts-japanese-gothic | fonts-ipafont-gothic\n",
            "  fonts-arphic-ukai fonts-arphic-uming fonts-nanum\n",
            "The following NEW packages will be installed:\n",
            "  fonts-droid-fallback fonts-noto-mono ghostscript gsfonts libcupsfilters1\n",
            "  libcupsimage2 libgs9 libgs9-common libijs-0.35 libjbig2dec0 poppler-data\n",
            "0 upgraded, 11 newly installed, 0 to remove and 5 not upgraded.\n",
            "Need to get 14.1 MB of archives.\n",
            "After this operation, 49.9 MB of additional disk space will be used.\n",
            "Get:1 http://archive.ubuntu.com/ubuntu bionic/main amd64 fonts-droid-fallback all 1:6.0.1r16-1.1 [1,805 kB]\n",
            "Get:2 http://archive.ubuntu.com/ubuntu bionic/main amd64 poppler-data all 0.4.8-2 [1,479 kB]\n",
            "Get:3 http://archive.ubuntu.com/ubuntu bionic/main amd64 fonts-noto-mono all 20171026-2 [75.5 kB]\n",
            "Get:4 http://archive.ubuntu.com/ubuntu bionic-updates/main amd64 libcupsimage2 amd64 2.2.7-1ubuntu2.9 [18.6 kB]\n",
            "Get:5 http://archive.ubuntu.com/ubuntu bionic/main amd64 libijs-0.35 amd64 0.35-13 [15.5 kB]\n",
            "Get:6 http://archive.ubuntu.com/ubuntu bionic/main amd64 libjbig2dec0 amd64 0.13-6 [55.9 kB]\n",
            "Get:7 http://archive.ubuntu.com/ubuntu bionic-updates/main amd64 libgs9-common all 9.26~dfsg+0-0ubuntu0.18.04.17 [5,092 kB]\n",
            "Get:8 http://archive.ubuntu.com/ubuntu bionic-updates/main amd64 libgs9 amd64 9.26~dfsg+0-0ubuntu0.18.04.17 [2,267 kB]\n",
            "Get:9 http://archive.ubuntu.com/ubuntu bionic-updates/main amd64 ghostscript amd64 9.26~dfsg+0-0ubuntu0.18.04.17 [51.3 kB]\n",
            "Get:10 http://archive.ubuntu.com/ubuntu bionic/main amd64 gsfonts all 1:8.11+urwcyr1.0.7~pre44-4.4 [3,120 kB]\n",
            "Get:11 http://archive.ubuntu.com/ubuntu bionic-updates/main amd64 libcupsfilters1 amd64 1.20.2-0ubuntu3.1 [108 kB]\n",
            "Fetched 14.1 MB in 1s (12.3 MB/s)\n",
            "Selecting previously unselected package fonts-droid-fallback.\n",
            "(Reading database ... 123998 files and directories currently installed.)\n",
            "Preparing to unpack .../00-fonts-droid-fallback_1%3a6.0.1r16-1.1_all.deb ...\n",
            "Unpacking fonts-droid-fallback (1:6.0.1r16-1.1) ...\n",
            "Selecting previously unselected package poppler-data.\n",
            "Preparing to unpack .../01-poppler-data_0.4.8-2_all.deb ...\n",
            "Unpacking poppler-data (0.4.8-2) ...\n",
            "Selecting previously unselected package fonts-noto-mono.\n",
            "Preparing to unpack .../02-fonts-noto-mono_20171026-2_all.deb ...\n",
            "Unpacking fonts-noto-mono (20171026-2) ...\n",
            "Selecting previously unselected package libcupsimage2:amd64.\n",
            "Preparing to unpack .../03-libcupsimage2_2.2.7-1ubuntu2.9_amd64.deb ...\n",
            "Unpacking libcupsimage2:amd64 (2.2.7-1ubuntu2.9) ...\n",
            "Selecting previously unselected package libijs-0.35:amd64.\n",
            "Preparing to unpack .../04-libijs-0.35_0.35-13_amd64.deb ...\n",
            "Unpacking libijs-0.35:amd64 (0.35-13) ...\n",
            "Selecting previously unselected package libjbig2dec0:amd64.\n",
            "Preparing to unpack .../05-libjbig2dec0_0.13-6_amd64.deb ...\n",
            "Unpacking libjbig2dec0:amd64 (0.13-6) ...\n",
            "Selecting previously unselected package libgs9-common.\n",
            "Preparing to unpack .../06-libgs9-common_9.26~dfsg+0-0ubuntu0.18.04.17_all.deb ...\n",
            "Unpacking libgs9-common (9.26~dfsg+0-0ubuntu0.18.04.17) ...\n",
            "Selecting previously unselected package libgs9:amd64.\n",
            "Preparing to unpack .../07-libgs9_9.26~dfsg+0-0ubuntu0.18.04.17_amd64.deb ...\n",
            "Unpacking libgs9:amd64 (9.26~dfsg+0-0ubuntu0.18.04.17) ...\n",
            "Selecting previously unselected package ghostscript.\n",
            "Preparing to unpack .../08-ghostscript_9.26~dfsg+0-0ubuntu0.18.04.17_amd64.deb ...\n",
            "Unpacking ghostscript (9.26~dfsg+0-0ubuntu0.18.04.17) ...\n",
            "Selecting previously unselected package gsfonts.\n",
            "Preparing to unpack .../09-gsfonts_1%3a8.11+urwcyr1.0.7~pre44-4.4_all.deb ...\n",
            "Unpacking gsfonts (1:8.11+urwcyr1.0.7~pre44-4.4) ...\n",
            "Selecting previously unselected package libcupsfilters1:amd64.\n",
            "Preparing to unpack .../10-libcupsfilters1_1.20.2-0ubuntu3.1_amd64.deb ...\n",
            "Unpacking libcupsfilters1:amd64 (1.20.2-0ubuntu3.1) ...\n",
            "Setting up libgs9-common (9.26~dfsg+0-0ubuntu0.18.04.17) ...\n",
            "Setting up fonts-droid-fallback (1:6.0.1r16-1.1) ...\n",
            "Setting up gsfonts (1:8.11+urwcyr1.0.7~pre44-4.4) ...\n",
            "Setting up poppler-data (0.4.8-2) ...\n",
            "Setting up fonts-noto-mono (20171026-2) ...\n",
            "Setting up libcupsfilters1:amd64 (1.20.2-0ubuntu3.1) ...\n",
            "Setting up libcupsimage2:amd64 (2.2.7-1ubuntu2.9) ...\n",
            "Setting up libjbig2dec0:amd64 (0.13-6) ...\n",
            "Setting up libijs-0.35:amd64 (0.35-13) ...\n",
            "Setting up libgs9:amd64 (9.26~dfsg+0-0ubuntu0.18.04.17) ...\n",
            "Setting up ghostscript (9.26~dfsg+0-0ubuntu0.18.04.17) ...\n",
            "Processing triggers for man-db (2.8.3-2ubuntu0.1) ...\n",
            "Processing triggers for fontconfig (2.12.6-0ubuntu2) ...\n",
            "Processing triggers for libc-bin (2.27-3ubuntu1.6) ...\n"
          ]
        }
      ]
    },
    {
      "cell_type": "code",
      "source": [
        "import helpers\n",
        "import numpy as np\n",
        "import random\n",
        "import pygame\n",
        "import heapq\n",
        "import matplotlib.pyplot as plt\n",
        "import matplotlib.animation as animation\n",
        "import seaborn as sns\n",
        "import turtle\n",
        "import queue, operator, itertools"
      ],
      "metadata": {
        "colab": {
          "base_uri": "https://localhost:8080/"
        },
        "id": "nh7JWUtHoIr-",
        "outputId": "793f8c17-89d3-48ca-c7e4-864c06202bdb"
      },
      "execution_count": 61,
      "outputs": [
        {
          "output_type": "stream",
          "name": "stdout",
          "text": [
            "pygame 2.1.2 (SDL 2.0.16, Python 3.7.15)\n",
            "Hello from the pygame community. https://www.pygame.org/contribute.html\n"
          ]
        }
      ]
    },
    {
      "cell_type": "code",
      "execution_count": 62,
      "metadata": {
        "id": "HgyIf0SxnLo4"
      },
      "outputs": [],
      "source": [
        "from helpers import *\n",
        "from pyamaze import maze,agent,textLabel\n",
        "from queue import PriorityQueue\n",
        "from tkinter import *\n",
        "from enum import Enum\n",
        "from random import choice\n",
        "from threading import Thread\n",
        "from time import sleep\n",
        "import sys\n",
        "from collections import deque\n",
        "sns.set()\n",
        "import os"
      ]
    },
    {
      "cell_type": "code",
      "source": [
        "# 1. BFS ( breadth first search) algorithm\n",
        "# The illustrated graph is represented using an adjacency list. \n",
        "# An easy way to do this in Python is to use a dictionary data structure, \n",
        "# where each vertex has a stored list of its adjacent nodes.\n",
        "\n",
        "graph = {\n",
        "  'A' : ['B','C'],\n",
        "  'B' : ['D', 'E'],\n",
        "  'C' : ['F'],\n",
        "  'D' : [],\n",
        "  'E' : ['F'],\n",
        "  'F' : []\n",
        "}\n",
        "\n",
        "visited = [] # List to keep track of visited nodes.\n",
        "queue = []   # Initialize a queue, keep track of nodes currently in the queue.\n",
        "\n",
        "\n",
        "#  Arguments: the visited list, the graph in the form of a dictionary, and the starting node A\n",
        "def bfs(visited, graph, node):\n",
        "  visited.append(node)\n",
        "  queue.append(node)\n",
        "\n",
        "#  It checks and appends the starting node to the visited list and the queue\n",
        "#  While the queue contains elements, it keeps taking out nodes from the queue, appends the neighbors of that node to the queue if they are unvisited, and marks them as visited.\n",
        "#  This continues until the queue is empty.\n",
        "  while queue:\n",
        "    s = queue.pop(0) \n",
        "    print (s, end = \" \") \n",
        "\n",
        "    for neighbour in graph[s]:\n",
        "      if neighbour not in visited:\n",
        "        visited.append(neighbour)\n",
        "        queue.append(neighbour)\n",
        "\n",
        "\n",
        "\n",
        "# Driver Code\n",
        "bfs(visited, graph, 'A')"
      ],
      "metadata": {
        "colab": {
          "base_uri": "https://localhost:8080/"
        },
        "id": "4YyIMIapOPeu",
        "outputId": "95651608-332d-4298-ee5e-7d8d18717423"
      },
      "execution_count": 31,
      "outputs": [
        {
          "output_type": "stream",
          "name": "stdout",
          "text": [
            "A B C D E F "
          ]
        }
      ]
    },
    {
      "cell_type": "code",
      "source": [
        "# 2. DFS ( depth first search) algorithm\n",
        "# Using a Python dictionary to act as an adjacency list\n",
        "graph = {\n",
        "    'A' : ['B','C'],\n",
        "    'B' : ['D', 'E'],\n",
        "    'C' : ['F'],\n",
        "    'D' : [],\n",
        "    'E' : ['F'],\n",
        "    'F' : []\n",
        "}\n",
        "\n",
        "visited = set() # Set to keep track of visited nodes.\n",
        "\n",
        "def dfs(visited, graph, node):\n",
        "    if node not in visited:\n",
        "        print (node)\n",
        "        visited.add(node)\n",
        "        for neighbour in graph[node]:\n",
        "            dfs(visited, graph, neighbour)\n",
        "\n",
        "# Driver Code\n",
        "dfs(visited, graph, 'A')"
      ],
      "metadata": {
        "colab": {
          "base_uri": "https://localhost:8080/"
        },
        "id": "Wj9VeF7IWG8c",
        "outputId": "5525c439-8d87-414d-8811-8bc24c07340b"
      },
      "execution_count": 32,
      "outputs": [
        {
          "output_type": "stream",
          "name": "stdout",
          "text": [
            "A\n",
            "B\n",
            "D\n",
            "E\n",
            "F\n",
            "C\n"
          ]
        }
      ]
    },
    {
      "cell_type": "code",
      "source": [
        "# 3. Heapify a list to heap by heapq\n",
        "# importing \"heapq\" to implement heap queue\n",
        "import heapq\n",
        " \n",
        "# initializing list\n",
        "li = [5, 7, 9, 1, 3]\n",
        " \n",
        "# using heapify to convert list into heap\n",
        "heapq.heapify(li)\n",
        " \n",
        "# printing created heap\n",
        "print (\"The created heap is : \",(list(li)))"
      ],
      "metadata": {
        "colab": {
          "base_uri": "https://localhost:8080/"
        },
        "id": "J4BVWKCzlbwu",
        "outputId": "ef714599-b22d-4f0f-8a53-f1771e8aac88"
      },
      "execution_count": 33,
      "outputs": [
        {
          "output_type": "stream",
          "name": "stdout",
          "text": [
            "The created heap is :  [1, 3, 9, 7, 5]\n"
          ]
        }
      ]
    },
    {
      "cell_type": "code",
      "source": [
        "# 4. Implement stack by list\n",
        "# Python program to demonstrate stack implementation using list. You can implement stack by list, queue or decque. \n",
        "# Use decque if you do not use threading. \n",
        "\n",
        "stack = []\n",
        " \n",
        "# append() function to push\n",
        "# element in the stack\n",
        "stack.append('a')\n",
        "stack.append('b')\n",
        "stack.append('c')\n",
        " \n",
        "print('Initial stack')\n",
        "print(stack)\n",
        " \n",
        "# pop() function to pop\n",
        "# element from stack in\n",
        "# LIFO order\n",
        "print('\\nElements popped from stack:')\n",
        "print(stack.pop())\n",
        "print(stack.pop())\n",
        "print(stack.pop())\n",
        " \n",
        "print('\\nStack after elements are popped:')\n",
        "print(stack)\n",
        " \n",
        "# uncommenting print(stack.pop())\n",
        "# will cause an IndexError\n",
        "# as the stack is now empty"
      ],
      "metadata": {
        "colab": {
          "base_uri": "https://localhost:8080/"
        },
        "id": "y52PUe_onnWo",
        "outputId": "aa8c1aaa-1f4f-4016-e96e-592265294fcc"
      },
      "execution_count": 38,
      "outputs": [
        {
          "output_type": "stream",
          "name": "stdout",
          "text": [
            "Initial stack\n",
            "['a', 'b', 'c']\n",
            "\n",
            "Elements popped from stack:\n",
            "c\n",
            "b\n",
            "a\n",
            "\n",
            "Stack after elements are popped:\n",
            "[]\n"
          ]
        }
      ]
    },
    {
      "cell_type": "code",
      "source": [
        "# 5. Create the basic stack class stack.py"
      ],
      "metadata": {
        "id": "gAt09PvldUTn"
      },
      "execution_count": 39,
      "outputs": []
    },
    {
      "cell_type": "code",
      "source": [
        "# create a stack class with basic stack steps\n",
        "\n",
        "class Stack:\n",
        "  \n",
        "    def __init__(self):\n",
        "        self.items = []\n",
        "        \n",
        "    def is_empty(self):\n",
        "        return not self.items\n",
        "      \n",
        "    def push(self, item):\n",
        "        self.items.append(item)\n",
        "        \n",
        "    def pop(self):\n",
        "        if self.items:\n",
        "            return self.items.pop()\n",
        "        else:\n",
        "            return None\n",
        "          \n",
        "    def peek(self):\n",
        "        if self.items:\n",
        "            return self.items[-1]\n",
        "        else:\n",
        "            return None\n",
        "          \n",
        "    def size(self):\n",
        "        return len(self.items)\n",
        "      \n",
        "    def __str__(self):\n",
        "        return str(self.items)"
      ],
      "metadata": {
        "id": "1BztJpimdXyl"
      },
      "execution_count": 52,
      "outputs": []
    },
    {
      "cell_type": "code",
      "source": [
        "# import the abstract stack class\n",
        "\n",
        "import stack\n",
        "\n",
        "# create a string\n",
        "string  = \".tuo tsal ni tsrif ,OLIF ,kcats a htiw gnirts a esrever ot woH\"\n",
        "\n",
        "# create an empty string \n",
        "reverse_string = \"\"\n",
        "\n",
        "# create a new stack\n",
        "s = stack.Stack()\n",
        "\n",
        "# loop over the characterers in the string and push each char to the empty stack\n",
        "for char in string:\n",
        "    s.push(char)\n",
        "\n",
        "# while the stack is not empty add the last character in the stack to the empty string\n",
        "while s.is_empty() == False:\n",
        "\n",
        "    reverse_string = reverse_string + str(s.pop())\n",
        "\n",
        "# print the outcome\n",
        "print(reverse_string)"
      ],
      "metadata": {
        "colab": {
          "base_uri": "https://localhost:8080/"
        },
        "id": "dda36YQTd9i9",
        "outputId": "2c19c5b7-5871-46fc-eaf1-2f2b8384a6f7"
      },
      "execution_count": 57,
      "outputs": [
        {
          "output_type": "stream",
          "name": "stdout",
          "text": [
            "How to reverse a string with a stack, FILO, first in last out.\n"
          ]
        }
      ]
    },
    {
      "cell_type": "code",
      "source": [
        "# 6. Define a basic 2D maze\n",
        "maze = [\n",
        "    ['5', ' ', '5', ' ', '4', ' ', '1', ' ', '0', ' ', '1'], \n",
        "    ['#', ' ', '#', '#', '#'], \n",
        "    ['#', ' ', '#', ' ', '#'], \n",
        "    ['#', ' ', '#', ' ', '#'], \n",
        "    ['#', ' ', ' ', ' ', '#'], \n",
        "    ['#', ' ', '#', '#', '#']]"
      ],
      "metadata": {
        "id": "C6cFR8UHXQGR"
      },
      "execution_count": 41,
      "outputs": []
    },
    {
      "cell_type": "code",
      "source": [
        "for i in maze:\n",
        "    print(\"\".join(i))"
      ],
      "metadata": {
        "colab": {
          "base_uri": "https://localhost:8080/"
        },
        "id": "Gq197V0BYSLE",
        "outputId": "ac3a1e68-df9c-4ced-b80e-29d3d56b28aa"
      },
      "execution_count": 42,
      "outputs": [
        {
          "output_type": "stream",
          "name": "stdout",
          "text": [
            "5 5 4 1 0 1\n",
            "# ###\n",
            "# # #\n",
            "# # #\n",
            "#   #\n",
            "# ###\n"
          ]
        }
      ]
    },
    {
      "cell_type": "code",
      "source": [
        "# 7. Define a DFS (depth first search) 2D maze\n",
        "\n",
        "import pygame\n",
        "import random\n",
        "pygame.init()\n",
        "# df_maze.py\n",
        "\n",
        "\n",
        "# Create a maze using the depth-first algorithm described at\n",
        "# https://scipython.com/blog/making-a-maze/\n",
        "# Christian Hill, April 2017.\n",
        "\n",
        "class Cell:\n",
        "    \"\"\"A cell in the maze.\n",
        "\n",
        "    A maze \"Cell\" is a point in the grid which may be surrounded by walls to\n",
        "    the north, east, south or west.\n",
        "\n",
        "    \"\"\"\n",
        "\n",
        "    # A wall separates a pair of cells in the N-S or W-E directions.\n",
        "    wall_pairs = {'N': 'S', 'S': 'N', 'E': 'W', 'W': 'E'}\n",
        "\n",
        "    def __init__(self, x, y):\n",
        "        \"\"\"Initialize the cell at (x,y). At first it is surrounded by walls.\"\"\"\n",
        "\n",
        "        self.x, self.y = x, y\n",
        "        self.walls = {'N': True, 'S': True, 'E': True, 'W': True}\n",
        "\n",
        "    def has_all_walls(self):\n",
        "        \"\"\"Does this cell still have all its walls?\"\"\"\n",
        "\n",
        "        return all(self.walls.values())\n",
        "\n",
        "    def knock_down_wall(self, other, wall):\n",
        "        \"\"\"Knock down the wall between cells self and other.\"\"\"\n",
        "\n",
        "        self.walls[wall] = False\n",
        "        other.walls[Cell.wall_pairs[wall]] = False\n",
        "\n",
        "\n",
        "class Maze:\n",
        "    \"\"\"A Maze, represented as a grid of cells.\"\"\"\n",
        "\n",
        "    def __init__(self, nx, ny, ix=0, iy=0):\n",
        "        \"\"\"Initialize the maze grid.\n",
        "        The maze consists of nx x ny cells and will be constructed starting\n",
        "        at the cell indexed at (ix, iy).\n",
        "\n",
        "        \"\"\"\n",
        "\n",
        "        self.nx, self.ny = nx, ny\n",
        "        self.ix, self.iy = ix, iy\n",
        "        self.maze_map = [[Cell(x, y) for y in range(ny)] for x in range(nx)]\n",
        "\n",
        "    def cell_at(self, x, y):\n",
        "        \"\"\"Return the Cell object at (x,y).\"\"\"\n",
        "\n",
        "        return self.maze_map[x][y]\n",
        "\n",
        "    def __str__(self):\n",
        "        \"\"\"Return a (crude) string representation of the maze.\"\"\"\n",
        "\n",
        "        maze_rows = ['-' * self.nx * 2]\n",
        "        for y in range(self.ny):\n",
        "            maze_row = ['|']\n",
        "            for x in range(self.nx):\n",
        "                if self.maze_map[x][y].walls['E']:\n",
        "                    maze_row.append(' |')\n",
        "                else:\n",
        "                    maze_row.append('  ')\n",
        "            maze_rows.append(''.join(maze_row))\n",
        "            maze_row = ['|']\n",
        "            for x in range(self.nx):\n",
        "                if self.maze_map[x][y].walls['S']:\n",
        "                    maze_row.append('-+')\n",
        "                else:\n",
        "                    maze_row.append(' +')\n",
        "            maze_rows.append(''.join(maze_row))\n",
        "        return '\\n'.join(maze_rows)\n",
        "\n",
        "    def write_svg(self, filename):\n",
        "        \"\"\"Write an SVG image of the maze to filename.\"\"\"\n",
        "\n",
        "        aspect_ratio = self.nx / self.ny\n",
        "        # Pad the maze all around by this amount.\n",
        "        padding = 10\n",
        "        # Height and width of the maze image (excluding padding), in pixels\n",
        "        height = 500\n",
        "        width = int(height * aspect_ratio)\n",
        "        # Scaling factors mapping maze coordinates to image coordinates\n",
        "        scy, scx = height / self.ny, width / self.nx\n",
        "\n",
        "        def write_wall(ww_f, ww_x1, ww_y1, ww_x2, ww_y2):\n",
        "            \"\"\"Write a single wall to the SVG image file handle f.\"\"\"\n",
        "\n",
        "            print('<line x1=\"{}\" y1=\"{}\" x2=\"{}\" y2=\"{}\"/>'\n",
        "                  .format(ww_x1, ww_y1, ww_x2, ww_y2), file=ww_f)\n",
        "\n",
        "        # Write the SVG image file for maze\n",
        "        with open(filename, 'w') as f:\n",
        "            # SVG preamble and styles.\n",
        "            print('<?xml version=\"1.0\" encoding=\"utf-8\"?>', file=f)\n",
        "            print('<svg xmlns=\"http://www.w3.org/2000/svg\"', file=f)\n",
        "            print('    xmlns:xlink=\"http://www.w3.org/1999/xlink\"', file=f)\n",
        "            print('    width=\"{:d}\" height=\"{:d}\" viewBox=\"{} {} {} {}\">'\n",
        "                  .format(width + 2 * padding, height + 2 * padding,\n",
        "                          -padding, -padding, width + 2 * padding, height + 2 * padding),\n",
        "                  file=f)\n",
        "            print('<defs>\\n<style type=\"text/css\"><![CDATA[', file=f)\n",
        "            print('line {', file=f)\n",
        "            print('    stroke: #000000;\\n    stroke-linecap: square;', file=f)\n",
        "            print('    stroke-width: 5;\\n}', file=f)\n",
        "            print(']]></style>\\n</defs>', file=f)\n",
        "            # Draw the \"South\" and \"East\" walls of each cell, if present (these\n",
        "            # are the \"North\" and \"West\" walls of a neighbouring cell in\n",
        "            # general, of course).\n",
        "            for x in range(self.nx):\n",
        "                for y in range(self.ny):\n",
        "                    if self.cell_at(x, y).walls['S']:\n",
        "                        x1, y1, x2, y2 = x * scx, (y + 1) * scy, (x + 1) * scx, (y + 1) * scy\n",
        "                        write_wall(f, x1, y1, x2, y2)\n",
        "                    if self.cell_at(x, y).walls['E']:\n",
        "                        x1, y1, x2, y2 = (x + 1) * scx, y * scy, (x + 1) * scx, (y + 1) * scy\n",
        "                        write_wall(f, x1, y1, x2, y2)\n",
        "            # Draw the North and West maze border, which won't have been drawn\n",
        "            # by the procedure above.\n",
        "            print('<line x1=\"0\" y1=\"0\" x2=\"{}\" y2=\"0\"/>'.format(width), file=f)\n",
        "            print('<line x1=\"0\" y1=\"0\" x2=\"0\" y2=\"{}\"/>'.format(height), file=f)\n",
        "            print('</svg>', file=f)\n",
        "\n",
        "    def find_valid_neighbours(self, cell):\n",
        "        \"\"\"Return a list of unvisited neighbours to cell.\"\"\"\n",
        "\n",
        "        delta = [('W', (-1, 0)),\n",
        "                 ('E', (1, 0)),\n",
        "                 ('S', (0, 1)),\n",
        "                 ('N', (0, -1))]\n",
        "        neighbours = []\n",
        "        for direction, (dx, dy) in delta:\n",
        "            x2, y2 = cell.x + dx, cell.y + dy\n",
        "            if (0 <= x2 < self.nx) and (0 <= y2 < self.ny):\n",
        "                neighbour = self.cell_at(x2, y2)\n",
        "                if neighbour.has_all_walls():\n",
        "                    neighbours.append((direction, neighbour))\n",
        "        return neighbours\n",
        "\n",
        "    def make_maze(self):\n",
        "        # Total number of cells.\n",
        "        n = self.nx * self.ny\n",
        "        cell_stack = []\n",
        "        current_cell = self.cell_at(self.ix, self.iy)\n",
        "        # Total number of visited cells during maze construction.\n",
        "        nv = 1\n",
        "\n",
        "        while nv < n:\n",
        "            neighbours = self.find_valid_neighbours(current_cell)\n",
        "\n",
        "            if not neighbours:\n",
        "                # We've reached a dead end: backtrack.\n",
        "                current_cell = cell_stack.pop()\n",
        "                continue\n",
        "\n",
        "            # Choose a random neighbouring cell and move to it.\n",
        "            direction, next_cell = random.choice(neighbours)\n",
        "            current_cell.knock_down_wall(next_cell, direction)\n",
        "            cell_stack.append(current_cell)\n",
        "            current_cell = next_cell\n",
        "            nv += 1"
      ],
      "metadata": {
        "id": "HjY5-xFSXQVI"
      },
      "execution_count": 70,
      "outputs": []
    },
    {
      "cell_type": "code",
      "source": [
        "from df_maze import Maze\n",
        "import random\n",
        "# Maze dimensions (ncols, nrows)\n",
        "nx, ny = 15, 15\n",
        "# Maze entry position\n",
        "ix, iy = 0, 0\n",
        "\n",
        "maze = Maze(nx, ny, ix, iy)\n",
        "\n",
        "print(maze)\n",
        "maze.write_svg('maze.svg')"
      ],
      "metadata": {
        "colab": {
          "base_uri": "https://localhost:8080/"
        },
        "id": "1GJvKqXnmDLv",
        "outputId": "67f086c0-b036-45e3-ffd4-99105680338a"
      },
      "execution_count": 76,
      "outputs": [
        {
          "output_type": "stream",
          "name": "stdout",
          "text": [
            "------------------------------\n",
            "| | | | | | | | | | | | | | | |\n",
            "|-+-+-+-+-+-+-+-+-+-+-+-+-+-+-+\n",
            "| | | | | | | | | | | | | | | |\n",
            "|-+-+-+-+-+-+-+-+-+-+-+-+-+-+-+\n",
            "| | | | | | | | | | | | | | | |\n",
            "|-+-+-+-+-+-+-+-+-+-+-+-+-+-+-+\n",
            "| | | | | | | | | | | | | | | |\n",
            "|-+-+-+-+-+-+-+-+-+-+-+-+-+-+-+\n",
            "| | | | | | | | | | | | | | | |\n",
            "|-+-+-+-+-+-+-+-+-+-+-+-+-+-+-+\n",
            "| | | | | | | | | | | | | | | |\n",
            "|-+-+-+-+-+-+-+-+-+-+-+-+-+-+-+\n",
            "| | | | | | | | | | | | | | | |\n",
            "|-+-+-+-+-+-+-+-+-+-+-+-+-+-+-+\n",
            "| | | | | | | | | | | | | | | |\n",
            "|-+-+-+-+-+-+-+-+-+-+-+-+-+-+-+\n",
            "| | | | | | | | | | | | | | | |\n",
            "|-+-+-+-+-+-+-+-+-+-+-+-+-+-+-+\n",
            "| | | | | | | | | | | | | | | |\n",
            "|-+-+-+-+-+-+-+-+-+-+-+-+-+-+-+\n",
            "| | | | | | | | | | | | | | | |\n",
            "|-+-+-+-+-+-+-+-+-+-+-+-+-+-+-+\n",
            "| | | | | | | | | | | | | | | |\n",
            "|-+-+-+-+-+-+-+-+-+-+-+-+-+-+-+\n",
            "| | | | | | | | | | | | | | | |\n",
            "|-+-+-+-+-+-+-+-+-+-+-+-+-+-+-+\n",
            "| | | | | | | | | | | | | | | |\n",
            "|-+-+-+-+-+-+-+-+-+-+-+-+-+-+-+\n",
            "| | | | | | | | | | | | | | | |\n",
            "|-+-+-+-+-+-+-+-+-+-+-+-+-+-+-+\n"
          ]
        }
      ]
    }
  ]
}